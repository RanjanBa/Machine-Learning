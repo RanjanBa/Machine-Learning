{
 "cells": [
  {
   "cell_type": "code",
   "execution_count": 2,
   "metadata": {},
   "outputs": [],
   "source": [
    "import math\n",
    "import pandas as pd\n",
    "import numpy as np"
   ]
  },
  {
   "cell_type": "code",
   "execution_count": 112,
   "metadata": {},
   "outputs": [],
   "source": [
    "def entropy(partial_dataset):\n",
    "    data_count = {}\n",
    "    \n",
    "    for ele in partial_dataset:\n",
    "        if ele in data_count.keys():\n",
    "            data_count[ele] += 1\n",
    "        else:\n",
    "            data_count[ele] = 1\n",
    "    \n",
    "    res = 0\n",
    "    count = len(partial_dataset)\n",
    "    for key in data_count:\n",
    "        frac = float(data_count[key]) / count\n",
    "        res += frac * math.log2(frac)\n",
    "    \n",
    "    res *= -1\n",
    "    \n",
    "    return res"
   ]
  },
  {
   "cell_type": "code",
   "execution_count": 113,
   "metadata": {},
   "outputs": [],
   "source": [
    "def gini(partial_dataset):\n",
    "    data_count = {}\n",
    "    \n",
    "    for ele in partial_dataset:\n",
    "        if ele in data_count.keys():\n",
    "            data_count[ele] += 1\n",
    "        else:\n",
    "            data_count[ele] = 1\n",
    "            \n",
    "    res = 0\n",
    "    count = len(partial_dataset)\n",
    "    \n",
    "    for key in data_count:\n",
    "        frac = float(data_count[key]) / count\n",
    "        res += frac * frac\n",
    "        \n",
    "    return 1 - res"
   ]
  },
  {
   "cell_type": "code",
   "execution_count": 114,
   "metadata": {},
   "outputs": [],
   "source": [
    "def remainder(dataset, col_idx, target_idx):\n",
    "    divided_data = {}\n",
    "    \n",
    "    for idx, ele in enumerate(dataset[:,col_idx]):\n",
    "        if ele in divided_data:\n",
    "            divided_data[ele].append(dataset[idx][target_idx])\n",
    "        else:\n",
    "            divided_data[ele] = [dataset[idx][target_idx]]\n",
    "    \n",
    "    res = 0\n",
    "    \n",
    "    for key in divided_data:\n",
    "        frac = float(len(divided_data[key])) / len(dataset)\n",
    "        res += frac * gini(divided_data[key]) # entropy(divided_data[key])\n",
    "        \n",
    "    return res"
   ]
  },
  {
   "cell_type": "code",
   "execution_count": 115,
   "metadata": {},
   "outputs": [],
   "source": [
    "def information_gain(dataset, col_idx, target_idx):\n",
    "    target_entropy = gini(dataset[:,target_idx]) # entropy(dataset[:,target_idx])\n",
    "    \n",
    "    rem = remainder(dataset, col_idx, target_idx)\n",
    "    \n",
    "    return target_entropy - rem"
   ]
  },
  {
   "cell_type": "code",
   "execution_count": 107,
   "metadata": {},
   "outputs": [],
   "source": [
    "def information_gain_ratio(dataset, col_idx, target_idx):\n",
    "    info_gain = information_gain(dataset, col_idx, target_idx)\n",
    "    info_entropy = entropy(dataset[:,col_idx])\n",
    "    \n",
    "    return info_gain / info_entropy"
   ]
  },
  {
   "cell_type": "code",
   "execution_count": 3,
   "metadata": {},
   "outputs": [
    {
     "data": {
      "text/html": [
       "<div>\n",
       "<style scoped>\n",
       "    .dataframe tbody tr th:only-of-type {\n",
       "        vertical-align: middle;\n",
       "    }\n",
       "\n",
       "    .dataframe tbody tr th {\n",
       "        vertical-align: top;\n",
       "    }\n",
       "\n",
       "    .dataframe thead th {\n",
       "        text-align: right;\n",
       "    }\n",
       "</style>\n",
       "<table border=\"1\" class=\"dataframe\">\n",
       "  <thead>\n",
       "    <tr style=\"text-align: right;\">\n",
       "      <th></th>\n",
       "      <th>id</th>\n",
       "      <th>stream</th>\n",
       "      <th>slope</th>\n",
       "      <th>elevation</th>\n",
       "      <th>vegetation</th>\n",
       "    </tr>\n",
       "  </thead>\n",
       "  <tbody>\n",
       "    <tr>\n",
       "      <th>0</th>\n",
       "      <td>1</td>\n",
       "      <td>False</td>\n",
       "      <td>steep</td>\n",
       "      <td>high</td>\n",
       "      <td>chaparral</td>\n",
       "    </tr>\n",
       "    <tr>\n",
       "      <th>1</th>\n",
       "      <td>2</td>\n",
       "      <td>True</td>\n",
       "      <td>moderate</td>\n",
       "      <td>low</td>\n",
       "      <td>riparian</td>\n",
       "    </tr>\n",
       "    <tr>\n",
       "      <th>2</th>\n",
       "      <td>3</td>\n",
       "      <td>True</td>\n",
       "      <td>steep</td>\n",
       "      <td>medium</td>\n",
       "      <td>riparian</td>\n",
       "    </tr>\n",
       "    <tr>\n",
       "      <th>3</th>\n",
       "      <td>4</td>\n",
       "      <td>False</td>\n",
       "      <td>steep</td>\n",
       "      <td>medium</td>\n",
       "      <td>chaparral</td>\n",
       "    </tr>\n",
       "    <tr>\n",
       "      <th>4</th>\n",
       "      <td>5</td>\n",
       "      <td>False</td>\n",
       "      <td>flat</td>\n",
       "      <td>high</td>\n",
       "      <td>conifer</td>\n",
       "    </tr>\n",
       "    <tr>\n",
       "      <th>5</th>\n",
       "      <td>6</td>\n",
       "      <td>True</td>\n",
       "      <td>steep</td>\n",
       "      <td>highest</td>\n",
       "      <td>conifer</td>\n",
       "    </tr>\n",
       "    <tr>\n",
       "      <th>6</th>\n",
       "      <td>7</td>\n",
       "      <td>True</td>\n",
       "      <td>steep</td>\n",
       "      <td>high</td>\n",
       "      <td>chaparral</td>\n",
       "    </tr>\n",
       "  </tbody>\n",
       "</table>\n",
       "</div>"
      ],
      "text/plain": [
       "   id  stream     slope elevation vegetation\n",
       "0   1   False     steep      high  chaparral\n",
       "1   2    True  moderate       low   riparian\n",
       "2   3    True     steep    medium   riparian\n",
       "3   4   False     steep    medium  chaparral\n",
       "4   5   False      flat      high    conifer\n",
       "5   6    True     steep   highest    conifer\n",
       "6   7    True     steep      high  chaparral"
      ]
     },
     "execution_count": 3,
     "metadata": {},
     "output_type": "execute_result"
    }
   ],
   "source": [
    "dataset = pd.read_csv('Datasets/example_dataset.csv')\n",
    "dataset"
   ]
  },
  {
   "cell_type": "code",
   "execution_count": 49,
   "metadata": {},
   "outputs": [],
   "source": [
    "np_dataset = np.array(dataset)"
   ]
  },
  {
   "cell_type": "code",
   "execution_count": 83,
   "metadata": {},
   "outputs": [
    {
     "data": {
      "text/plain": [
       "array(['chaparral', 'riparian', 'riparian', 'chaparral', 'conifer',\n",
       "       'conifer', 'chaparral'], dtype=object)"
      ]
     },
     "execution_count": 83,
     "metadata": {},
     "output_type": "execute_result"
    }
   ],
   "source": [
    "np_dataset[:,4]"
   ]
  },
  {
   "cell_type": "code",
   "execution_count": 98,
   "metadata": {},
   "outputs": [
    {
     "name": "stdout",
     "output_type": "stream",
     "text": [
      "7\n"
     ]
    },
    {
     "data": {
      "text/plain": [
       "array([[1, False, 'steep', 'high', 'chaparral'],\n",
       "       [2, True, 'moderate', 'low', 'riparian'],\n",
       "       [3, True, 'steep', 'medium', 'riparian'],\n",
       "       [4, False, 'steep', 'medium', 'chaparral'],\n",
       "       [5, False, 'flat', 'high', 'conifer'],\n",
       "       [6, True, 'steep', 'highest', 'conifer'],\n",
       "       [7, True, 'steep', 'high', 'chaparral']], dtype=object)"
      ]
     },
     "execution_count": 98,
     "metadata": {},
     "output_type": "execute_result"
    }
   ],
   "source": [
    "print(len(np_dataset))\n",
    "np_dataset"
   ]
  },
  {
   "cell_type": "code",
   "execution_count": 86,
   "metadata": {},
   "outputs": [
    {
     "data": {
      "text/plain": [
       "1.5566567074628228"
      ]
     },
     "execution_count": 86,
     "metadata": {},
     "output_type": "execute_result"
    }
   ],
   "source": [
    "entropy(np_dataset[:,4])"
   ]
  },
  {
   "cell_type": "code",
   "execution_count": 116,
   "metadata": {},
   "outputs": [
    {
     "name": "stdout",
     "output_type": "stream",
     "text": [
      "idx 1 : 0.5476190476190476\n",
      "idx 2 : 0.39999999999999997\n",
      "idx 3 : 0.3333333333333333\n"
     ]
    }
   ],
   "source": [
    "target = 4\n",
    "\n",
    "for idx in range(1, len(np_dataset[0])):\n",
    "    if idx == target:\n",
    "        continue\n",
    "    print(f\"idx {idx} : {remainder(np_dataset, idx, target)}\")"
   ]
  },
  {
   "cell_type": "code",
   "execution_count": 117,
   "metadata": {},
   "outputs": [
    {
     "name": "stdout",
     "output_type": "stream",
     "text": [
      "idx 1 : 0.10544217687074842\n",
      "idx 2 : 0.253061224489796\n",
      "idx 3 : 0.31972789115646266\n"
     ]
    }
   ],
   "source": [
    "for idx in range(1, len(np_dataset[0])):\n",
    "    if idx == target:\n",
    "        continue\n",
    "    print(f\"idx {idx} : {information_gain(np_dataset, idx, target)}\")"
   ]
  },
  {
   "cell_type": "code",
   "execution_count": 108,
   "metadata": {},
   "outputs": [
    {
     "name": "stdout",
     "output_type": "stream",
     "text": [
      "idx 1 : 0.31054583367826694\n",
      "idx 2 : 0.5026016408718359\n",
      "idx 3 : 0.4762271375015451\n"
     ]
    }
   ],
   "source": [
    "for idx in range(1, len(np_dataset[0])):\n",
    "    if idx == target:\n",
    "        continue\n",
    "    print(f\"idx {idx} : {information_gain_ratio(np_dataset, idx, target)}\")"
   ]
  },
  {
   "cell_type": "code",
   "execution_count": 110,
   "metadata": {},
   "outputs": [
    {
     "data": {
      "text/plain": [
       "0.653061224489796"
      ]
     },
     "execution_count": 110,
     "metadata": {},
     "output_type": "execute_result"
    }
   ],
   "source": [
    "gini(np_dataset[:,target])"
   ]
  },
  {
   "cell_type": "code",
   "execution_count": null,
   "metadata": {},
   "outputs": [],
   "source": []
  }
 ],
 "metadata": {
  "kernelspec": {
   "display_name": "Python 3",
   "language": "python",
   "name": "python3"
  },
  "language_info": {
   "codemirror_mode": {
    "name": "ipython",
    "version": 3
   },
   "file_extension": ".py",
   "mimetype": "text/x-python",
   "name": "python",
   "nbconvert_exporter": "python",
   "pygments_lexer": "ipython3",
   "version": "3.11.4"
  }
 },
 "nbformat": 4,
 "nbformat_minor": 2
}
