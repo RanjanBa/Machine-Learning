{
 "cells": [
  {
   "cell_type": "code",
   "execution_count": 79,
   "metadata": {},
   "outputs": [],
   "source": [
    "import numpy as np"
   ]
  },
  {
   "cell_type": "code",
   "execution_count": 153,
   "metadata": {},
   "outputs": [],
   "source": [
    "number_of_features = 3\n",
    "number_of_outputs = 2\n",
    "\n",
    "hidden_layers = [] # number of nodes in each layer\n",
    "hidden_layers.append(2)\n",
    "\n",
    "weight_matrices = []\n",
    "biases = []\n",
    "\n",
    "for i in range(len(hidden_layers)):\n",
    "    matrix = None\n",
    "    bias = np.zeros((hidden_layers[i], 1), dtype=np.float64)\n",
    "    if i == 0:\n",
    "        matrix = np.zeros((number_of_features, hidden_layers[i]), dtype=np.float64)\n",
    "    else:\n",
    "        matrix = np.zeros((hidden_layers[i-1], hidden_layers[i]), dtype=np.float64)\n",
    "    \n",
    "    weight_matrices.append(matrix)\n",
    "    biases.append(bias)\n",
    "    \n",
    "matrix = np.zeros((hidden_layers[-1], number_of_outputs), dtype=np.float64)\n",
    "bias = np.zeros((number_of_outputs, 1), dtype=np.float64)\n",
    "\n",
    "weight_matrices.append(matrix)\n",
    "biases.append(bias)"
   ]
  },
  {
   "cell_type": "code",
   "execution_count": 154,
   "metadata": {},
   "outputs": [
    {
     "name": "stdout",
     "output_type": "stream",
     "text": [
      "[[0.1 0.2]\n",
      " [0.3 0.4]\n",
      " [0.5 0.6]]\n",
      "[[0.5]\n",
      " [0.5]]\n"
     ]
    }
   ],
   "source": [
    "weight_matrices[0][0][0] = 0.1\n",
    "weight_matrices[0][0][1] = 0.2\n",
    "weight_matrices[0][1][0] = 0.3\n",
    "weight_matrices[0][1][1] = 0.4\n",
    "weight_matrices[0][2][0] = 0.5\n",
    "weight_matrices[0][2][1] = 0.6\n",
    "\n",
    "biases[0][0][0] = 0.5\n",
    "biases[0][1][0] = 0.5\n",
    "\n",
    "print(weight_matrices[0])\n",
    "print(biases[0])"
   ]
  },
  {
   "cell_type": "code",
   "execution_count": 155,
   "metadata": {},
   "outputs": [
    {
     "name": "stdout",
     "output_type": "stream",
     "text": [
      "[[0.7 0.8]\n",
      " [0.9 0.1]]\n",
      "[[0.5]\n",
      " [0.5]]\n"
     ]
    }
   ],
   "source": [
    "weight_matrices[1][0][0] = 0.7\n",
    "weight_matrices[1][0][1] = 0.8\n",
    "weight_matrices[1][1][0] = 0.9\n",
    "weight_matrices[1][1][1] = 0.1\n",
    "\n",
    "biases[1][0][0] = 0.5\n",
    "biases[1][1][0] = 0.5\n",
    "\n",
    "print(weight_matrices[1])\n",
    "print(biases[1])"
   ]
  },
  {
   "cell_type": "code",
   "execution_count": 156,
   "metadata": {},
   "outputs": [],
   "source": [
    "def activationFunction(z):\n",
    "    return 1 / (1 + np.exp(-1 * z))\n",
    "    # try:\n",
    "    #     l = len(z)\n",
    "    #     result = np.zeros((l, 1))\n",
    "    #     for i in range(l):\n",
    "    #         result[i][0] = 1 / (1 + np.exp(-z[i][0]))\n",
    "        \n",
    "    #     return result\n",
    "    # except:\n",
    "    #     return 1 / (1 + np.exp(-z))"
   ]
  },
  {
   "cell_type": "code",
   "execution_count": 157,
   "metadata": {},
   "outputs": [],
   "source": [
    "def forwardPass(x):\n",
    "    y_out = x\n",
    "\n",
    "    for i in range(0,len(hidden_layers)+1):\n",
    "        y_out = np.add(np.matmul(np.transpose(weight_matrices[i]), y_out), biases[i])\n",
    "        y_out = activationFunction(y_out)\n",
    "    return y_out"
   ]
  },
  {
   "cell_type": "code",
   "execution_count": 159,
   "metadata": {},
   "outputs": [
    {
     "name": "stdout",
     "output_type": "stream",
     "text": [
      "[[0.88955061]\n",
      " [0.80039961]]\n"
     ]
    }
   ],
   "source": [
    "x_input = np.array([[1.0],[4.0],[5.0]], dtype=np.float16)\n",
    "y_out = forwardPass(x_input)\n",
    "print(y_out)"
   ]
  },
  {
   "cell_type": "code",
   "execution_count": null,
   "metadata": {},
   "outputs": [],
   "source": []
  },
  {
   "cell_type": "code",
   "execution_count": null,
   "metadata": {},
   "outputs": [],
   "source": []
  }
 ],
 "metadata": {
  "kernelspec": {
   "display_name": "Python 3",
   "language": "python",
   "name": "python3"
  },
  "language_info": {
   "codemirror_mode": {
    "name": "ipython",
    "version": 3
   },
   "file_extension": ".py",
   "mimetype": "text/x-python",
   "name": "python",
   "nbconvert_exporter": "python",
   "pygments_lexer": "ipython3",
   "version": "3.11.4"
  }
 },
 "nbformat": 4,
 "nbformat_minor": 2
}
