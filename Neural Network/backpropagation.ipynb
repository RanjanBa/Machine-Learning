{
 "cells": [
  {
   "cell_type": "code",
   "execution_count": 2,
   "metadata": {},
   "outputs": [],
   "source": [
    "import numpy as np"
   ]
  },
  {
   "cell_type": "code",
   "execution_count": 153,
   "metadata": {},
   "outputs": [],
   "source": [
    "number_of_features = 3\n",
    "number_of_outputs = 2\n",
    "\n",
    "hidden_layers = [] # number of nodes in each layer\n",
    "hidden_layers.append(2)\n",
    "\n",
    "weight_matrices = []\n",
    "__biases = []\n",
    "\n",
    "for i in range(len(hidden_layers)):\n",
    "    matrix = None\n",
    "    bias = np.zeros((hidden_layers[i], 1), dtype=np.float64)\n",
    "    if i == 0:\n",
    "        matrix = np.zeros((number_of_features, hidden_layers[i]), dtype=np.float64)\n",
    "    else:\n",
    "        matrix = np.zeros((hidden_layers[i-1], hidden_layers[i]), dtype=np.float64)\n",
    "    \n",
    "    weight_matrices.append(matrix)\n",
    "    __biases.append(bias)\n",
    "    \n",
    "matrix = np.zeros((hidden_layers[-1], number_of_outputs), dtype=np.float64)\n",
    "bias = np.zeros((number_of_outputs, 1), dtype=np.float64)\n",
    "\n",
    "weight_matrices.append(matrix)\n",
    "__biases.append(bias)"
   ]
  },
  {
   "cell_type": "code",
   "execution_count": 159,
   "metadata": {},
   "outputs": [
    {
     "name": "stdout",
     "output_type": "stream",
     "text": [
      "[[0.88955061]\n",
      " [0.80039961]]\n"
     ]
    }
   ],
   "source": [
    "\n",
    "y_out = forwardPass(x_input)\n",
    "print(y_out)"
   ]
  },
  {
   "cell_type": "code",
   "execution_count": 3,
   "metadata": {},
   "outputs": [],
   "source": [
    "from abc import abstractmethod\n",
    "\n",
    "class ActivationFunction:\n",
    "    def __init__(self) -> None:\n",
    "        pass\n",
    "    \n",
    "    @abstractmethod\n",
    "    def activate(self, input_z):\n",
    "        pass\n",
    "    \n",
    "    @abstractmethod\n",
    "    def gradient(self, input_z):\n",
    "        pass"
   ]
  },
  {
   "cell_type": "code",
   "execution_count": 8,
   "metadata": {},
   "outputs": [],
   "source": [
    "class SigmoidActivation(ActivationFunction):\n",
    "    def activate(self, input):\n",
    "        return 1.0 / (1 + np.exp(-input))\n",
    "    \n",
    "    def gradient(self, input):\n",
    "        sig = 1.0 / (1 + np.exp(-input))\n",
    "        return (1.0 - sig) * sig"
   ]
  },
  {
   "cell_type": "code",
   "execution_count": 18,
   "metadata": {},
   "outputs": [],
   "source": [
    "class Layer:\n",
    "    def __init__(self, number_of_nodes : int, activation_function : ActivationFunction = None):\n",
    "        self.__number_of_nodes = number_of_nodes\n",
    "        self.__activation_function : ActivationFunction = activation_function\n",
    "    \n",
    "    @property\n",
    "    def number_of_nodes(self):\n",
    "        return self.__number_of_nodes\n",
    "    \n",
    "    \n",
    "    def activate(self, input):\n",
    "        if self.__activation_function:\n",
    "            return self.__activation_function.activate(input)\n",
    "        \n",
    "        return input\n",
    "    \n",
    "    def gradient(self, input):\n",
    "        if self.__activation_function:\n",
    "            return self.__activation_function.gradient(input)\n",
    "        \n",
    "        print(\"No Activation Function is added...\")\n",
    "        return np.ones(input.shape, dtype=np.float64)"
   ]
  },
  {
   "cell_type": "code",
   "execution_count": 143,
   "metadata": {},
   "outputs": [],
   "source": [
    "class NeuralNetwork:\n",
    "    def __init__(self, number_of_inputs, number_of_outputs, output_activation_function : ActivationFunction = None) -> None:\n",
    "        self.__number_of_inputs = number_of_inputs\n",
    "        self.__number_of_outputs = number_of_outputs\n",
    "        self.__hidden_layers : list[Layer] = []\n",
    "        self.__output_layer : Layer = None\n",
    "        if output_activation_function:\n",
    "            self.__output_layer = Layer(number_of_outputs, output_activation_function)\n",
    "        self.__is_initialized = False\n",
    "    \n",
    "    def addHiddenLayer(self, layer : Layer):\n",
    "        self.__is_initialized = False\n",
    "        self.__hidden_layers.append(layer)\n",
    "        \n",
    "    def initialize(self):\n",
    "        self.__is_initialized = True\n",
    "        self.__weights = []\n",
    "        self.__biases = []\n",
    "        self.__weighted_sum = []\n",
    "        self.__activated_output = [] # output after applying activation function in each layer\n",
    "        self.__delta_error = [] # error in each layer\n",
    "        \n",
    "        prev_layer_size = self.__number_of_inputs\n",
    "        for i in range(len(self.__hidden_layers)):\n",
    "            self.__weights.append(np.zeros((prev_layer_size, self.__hidden_layers[i].number_of_nodes), dtype=np.float64))\n",
    "            self.__biases.append(np.zeros((self.__hidden_layers[i].number_of_nodes, 1), dtype=np.float64))\n",
    "            self.__weighted_sum.append(np.zeros((self.__hidden_layers[i].number_of_nodes, 1), dtype=np.float64))\n",
    "            self.__activated_output.append(np.zeros((self.__hidden_layers[i].number_of_nodes, 1), dtype=np.float64))\n",
    "            self.__delta_error.append(np.zeros((self.__hidden_layers[i].number_of_nodes, 1), dtype=np.float64))\n",
    "            prev_layer_size = self.__hidden_layers[i].number_of_nodes\n",
    "            \n",
    "        self.__weights.append(np.zeros((prev_layer_size, self.__number_of_outputs), dtype=np.float64))\n",
    "        self.__biases.append(np.zeros((self.__number_of_outputs, 1), dtype=np.float64))\n",
    "        self.__weighted_sum.append(np.zeros((self.__number_of_outputs, 1), dtype=np.float64))\n",
    "        self.__activated_output.append(np.zeros((self.__number_of_outputs, 1), dtype=np.float64))\n",
    "        self.__delta_error.append(np.zeros((self.__number_of_outputs, 1), dtype=np.float64))\n",
    "    \n",
    "    @property\n",
    "    def weights(self):\n",
    "        return self.__weights\n",
    "    \n",
    "    @property\n",
    "    def biases(self):\n",
    "        return self.__biases\n",
    "    \n",
    "    @property\n",
    "    def activated_output(self):\n",
    "        return self.__activated_output\n",
    "    \n",
    "    def initializeWeights(self, weights):\n",
    "        self.__weights = weights\n",
    "        \n",
    "    def initializeBiases(self, biases):\n",
    "        self.__biases = biases\n",
    "    \n",
    "    def forwardPass(self, input):\n",
    "        if not self.__is_initialized:\n",
    "            self.initialize()\n",
    "        \n",
    "        for i in range(len(self.__hidden_layers) + 1):\n",
    "            if i == 0:\n",
    "                self.__weighted_sum[i] = np.matmul(self.__weights[i].T, input) + self.__biases[i]\n",
    "                self.__activated_output[i] = self.__hidden_layers[i].activate(self.__weighted_sum[i])\n",
    "            elif i == len(self.__hidden_layers):\n",
    "                self.__weighted_sum[i] = np.matmul(self.__weights[i].T, self.__activated_output[i-1]) + self.__biases[i]\n",
    "                if self.__output_layer:\n",
    "                    self.__activated_output[i] = self.__output_layer.activate(self.__weighted_sum[i])\n",
    "                else:\n",
    "                    self.__activated_output[i] = self.__weighted_sum[i]\n",
    "            else:\n",
    "                self.__weighted_sum[i] = np.matmul(self.__weights[i].T, self.__activated_output[i-1]) + self.__biases[i]\n",
    "                self.__activated_output[i] = self.__hidden_layers[i].activate(self.__weighted_sum[i])\n",
    "            \n",
    "            # print(self.__weighted_sum[i])\n",
    "            # print(self.__activated_output[i])\n",
    "    \n",
    "    def backpropagate(self, output):\n",
    "        pass"
   ]
  },
  {
   "cell_type": "code",
   "execution_count": 144,
   "metadata": {},
   "outputs": [],
   "source": [
    "nn = NeuralNetwork(3, 2, SigmoidActivation())\n",
    "\n",
    "nn.addHiddenLayer(Layer(2, SigmoidActivation()))\n",
    "\n",
    "nn.initialize()\n",
    "\n",
    "weights = [np.array([[0.1, 0.2],\n",
    "                     [0.3, 0.4],\n",
    "                     [0.5, 0.6]]),\n",
    "            np.array([[0.7, 0.8],\n",
    "                      [0.9, 0.1]])]\n",
    "\n",
    "biases = [np.array([[0.5],\n",
    "                    [0.5]]),\n",
    "            np.array([[0.5],\n",
    "                        [0.5]])]\n",
    "\n",
    "nn.initializeWeights(weights)\n",
    "nn.initializeBiases(biases)"
   ]
  },
  {
   "cell_type": "code",
   "execution_count": 145,
   "metadata": {},
   "outputs": [
    {
     "name": "stdout",
     "output_type": "stream",
     "text": [
      "[[0.1 0.2]\n",
      " [0.3 0.4]\n",
      " [0.5 0.6]]\n",
      "[[0.7 0.8]\n",
      " [0.9 0.1]]\n",
      "[[0.5]\n",
      " [0.5]]\n",
      "[[0.5]\n",
      " [0.5]]\n"
     ]
    }
   ],
   "source": [
    "for w in nn.weights:\n",
    "    print(w)\n",
    "    \n",
    "for b in nn.biases:\n",
    "    print(b)"
   ]
  },
  {
   "cell_type": "code",
   "execution_count": 146,
   "metadata": {},
   "outputs": [],
   "source": [
    "x_input = np.array([[1.0],[4.0],[5.0]], dtype=np.float16)\n",
    "\n",
    "nn.forwardPass(x_input)"
   ]
  },
  {
   "cell_type": "code",
   "execution_count": 147,
   "metadata": {},
   "outputs": [
    {
     "data": {
      "text/plain": [
       "array([[0.88955061],\n",
       "       [0.80039961]])"
      ]
     },
     "execution_count": 147,
     "metadata": {},
     "output_type": "execute_result"
    }
   ],
   "source": [
    "nn.activated_output[-1]"
   ]
  },
  {
   "cell_type": "code",
   "execution_count": null,
   "metadata": {},
   "outputs": [],
   "source": []
  }
 ],
 "metadata": {
  "kernelspec": {
   "display_name": "Python 3",
   "language": "python",
   "name": "python3"
  },
  "language_info": {
   "codemirror_mode": {
    "name": "ipython",
    "version": 3
   },
   "file_extension": ".py",
   "mimetype": "text/x-python",
   "name": "python",
   "nbconvert_exporter": "python",
   "pygments_lexer": "ipython3",
   "version": "3.11.4"
  }
 },
 "nbformat": 4,
 "nbformat_minor": 2
}
