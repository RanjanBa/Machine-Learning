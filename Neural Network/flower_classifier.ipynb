{
 "cells": [
  {
   "cell_type": "code",
   "execution_count": 1,
   "metadata": {},
   "outputs": [],
   "source": [
    "import numpy as np\n",
    "import pandas as pd\n",
    "from sklearn import preprocessing, model_selection"
   ]
  },
  {
   "cell_type": "code",
   "execution_count": 2,
   "metadata": {},
   "outputs": [],
   "source": [
    "df = pd.read_csv('./Datasets/iris.csv')"
   ]
  },
  {
   "cell_type": "code",
   "execution_count": 3,
   "metadata": {},
   "outputs": [
    {
     "data": {
      "text/html": [
       "<div>\n",
       "<style scoped>\n",
       "    .dataframe tbody tr th:only-of-type {\n",
       "        vertical-align: middle;\n",
       "    }\n",
       "\n",
       "    .dataframe tbody tr th {\n",
       "        vertical-align: top;\n",
       "    }\n",
       "\n",
       "    .dataframe thead th {\n",
       "        text-align: right;\n",
       "    }\n",
       "</style>\n",
       "<table border=\"1\" class=\"dataframe\">\n",
       "  <thead>\n",
       "    <tr style=\"text-align: right;\">\n",
       "      <th></th>\n",
       "      <th>Id</th>\n",
       "      <th>SepalLengthCm</th>\n",
       "      <th>SepalWidthCm</th>\n",
       "      <th>PetalLengthCm</th>\n",
       "      <th>PetalWidthCm</th>\n",
       "      <th>Species</th>\n",
       "    </tr>\n",
       "  </thead>\n",
       "  <tbody>\n",
       "    <tr>\n",
       "      <th>0</th>\n",
       "      <td>1</td>\n",
       "      <td>5.1</td>\n",
       "      <td>3.5</td>\n",
       "      <td>1.4</td>\n",
       "      <td>0.2</td>\n",
       "      <td>Iris-setosa</td>\n",
       "    </tr>\n",
       "    <tr>\n",
       "      <th>1</th>\n",
       "      <td>2</td>\n",
       "      <td>4.9</td>\n",
       "      <td>3.0</td>\n",
       "      <td>1.4</td>\n",
       "      <td>0.2</td>\n",
       "      <td>Iris-setosa</td>\n",
       "    </tr>\n",
       "    <tr>\n",
       "      <th>2</th>\n",
       "      <td>3</td>\n",
       "      <td>4.7</td>\n",
       "      <td>3.2</td>\n",
       "      <td>1.3</td>\n",
       "      <td>0.2</td>\n",
       "      <td>Iris-setosa</td>\n",
       "    </tr>\n",
       "    <tr>\n",
       "      <th>3</th>\n",
       "      <td>4</td>\n",
       "      <td>4.6</td>\n",
       "      <td>3.1</td>\n",
       "      <td>1.5</td>\n",
       "      <td>0.2</td>\n",
       "      <td>Iris-setosa</td>\n",
       "    </tr>\n",
       "    <tr>\n",
       "      <th>4</th>\n",
       "      <td>5</td>\n",
       "      <td>5.0</td>\n",
       "      <td>3.6</td>\n",
       "      <td>1.4</td>\n",
       "      <td>0.2</td>\n",
       "      <td>Iris-setosa</td>\n",
       "    </tr>\n",
       "  </tbody>\n",
       "</table>\n",
       "</div>"
      ],
      "text/plain": [
       "   Id  SepalLengthCm  SepalWidthCm  PetalLengthCm  PetalWidthCm      Species\n",
       "0   1            5.1           3.5            1.4           0.2  Iris-setosa\n",
       "1   2            4.9           3.0            1.4           0.2  Iris-setosa\n",
       "2   3            4.7           3.2            1.3           0.2  Iris-setosa\n",
       "3   4            4.6           3.1            1.5           0.2  Iris-setosa\n",
       "4   5            5.0           3.6            1.4           0.2  Iris-setosa"
      ]
     },
     "execution_count": 3,
     "metadata": {},
     "output_type": "execute_result"
    }
   ],
   "source": [
    "df.head()"
   ]
  },
  {
   "cell_type": "code",
   "execution_count": 4,
   "metadata": {},
   "outputs": [
    {
     "data": {
      "text/plain": [
       "array(['Iris-setosa', 'Iris-versicolor', 'Iris-virginica'], dtype=object)"
      ]
     },
     "execution_count": 4,
     "metadata": {},
     "output_type": "execute_result"
    }
   ],
   "source": [
    "df['Species'].unique()"
   ]
  },
  {
   "cell_type": "code",
   "execution_count": 5,
   "metadata": {},
   "outputs": [
    {
     "data": {
      "text/plain": [
       "Species\n",
       "Iris-setosa        50\n",
       "Iris-versicolor    50\n",
       "Iris-virginica     50\n",
       "Name: count, dtype: int64"
      ]
     },
     "execution_count": 5,
     "metadata": {},
     "output_type": "execute_result"
    }
   ],
   "source": [
    "df['Species'].value_counts()"
   ]
  },
  {
   "cell_type": "code",
   "execution_count": 6,
   "metadata": {},
   "outputs": [],
   "source": [
    "label_encoder = preprocessing.LabelEncoder()\n",
    "df['Species Encoded'] = label_encoder.fit_transform(df['Species'])"
   ]
  },
  {
   "cell_type": "code",
   "execution_count": 7,
   "metadata": {},
   "outputs": [
    {
     "data": {
      "text/html": [
       "<div>\n",
       "<style scoped>\n",
       "    .dataframe tbody tr th:only-of-type {\n",
       "        vertical-align: middle;\n",
       "    }\n",
       "\n",
       "    .dataframe tbody tr th {\n",
       "        vertical-align: top;\n",
       "    }\n",
       "\n",
       "    .dataframe thead th {\n",
       "        text-align: right;\n",
       "    }\n",
       "</style>\n",
       "<table border=\"1\" class=\"dataframe\">\n",
       "  <thead>\n",
       "    <tr style=\"text-align: right;\">\n",
       "      <th></th>\n",
       "      <th>Id</th>\n",
       "      <th>SepalLengthCm</th>\n",
       "      <th>SepalWidthCm</th>\n",
       "      <th>PetalLengthCm</th>\n",
       "      <th>PetalWidthCm</th>\n",
       "      <th>Species</th>\n",
       "      <th>Species Encoded</th>\n",
       "    </tr>\n",
       "  </thead>\n",
       "  <tbody>\n",
       "    <tr>\n",
       "      <th>0</th>\n",
       "      <td>1</td>\n",
       "      <td>5.1</td>\n",
       "      <td>3.5</td>\n",
       "      <td>1.4</td>\n",
       "      <td>0.2</td>\n",
       "      <td>Iris-setosa</td>\n",
       "      <td>0</td>\n",
       "    </tr>\n",
       "    <tr>\n",
       "      <th>1</th>\n",
       "      <td>2</td>\n",
       "      <td>4.9</td>\n",
       "      <td>3.0</td>\n",
       "      <td>1.4</td>\n",
       "      <td>0.2</td>\n",
       "      <td>Iris-setosa</td>\n",
       "      <td>0</td>\n",
       "    </tr>\n",
       "    <tr>\n",
       "      <th>2</th>\n",
       "      <td>3</td>\n",
       "      <td>4.7</td>\n",
       "      <td>3.2</td>\n",
       "      <td>1.3</td>\n",
       "      <td>0.2</td>\n",
       "      <td>Iris-setosa</td>\n",
       "      <td>0</td>\n",
       "    </tr>\n",
       "    <tr>\n",
       "      <th>3</th>\n",
       "      <td>4</td>\n",
       "      <td>4.6</td>\n",
       "      <td>3.1</td>\n",
       "      <td>1.5</td>\n",
       "      <td>0.2</td>\n",
       "      <td>Iris-setosa</td>\n",
       "      <td>0</td>\n",
       "    </tr>\n",
       "    <tr>\n",
       "      <th>4</th>\n",
       "      <td>5</td>\n",
       "      <td>5.0</td>\n",
       "      <td>3.6</td>\n",
       "      <td>1.4</td>\n",
       "      <td>0.2</td>\n",
       "      <td>Iris-setosa</td>\n",
       "      <td>0</td>\n",
       "    </tr>\n",
       "  </tbody>\n",
       "</table>\n",
       "</div>"
      ],
      "text/plain": [
       "   Id  SepalLengthCm  SepalWidthCm  PetalLengthCm  PetalWidthCm      Species  \\\n",
       "0   1            5.1           3.5            1.4           0.2  Iris-setosa   \n",
       "1   2            4.9           3.0            1.4           0.2  Iris-setosa   \n",
       "2   3            4.7           3.2            1.3           0.2  Iris-setosa   \n",
       "3   4            4.6           3.1            1.5           0.2  Iris-setosa   \n",
       "4   5            5.0           3.6            1.4           0.2  Iris-setosa   \n",
       "\n",
       "   Species Encoded  \n",
       "0                0  \n",
       "1                0  \n",
       "2                0  \n",
       "3                0  \n",
       "4                0  "
      ]
     },
     "execution_count": 7,
     "metadata": {},
     "output_type": "execute_result"
    }
   ],
   "source": [
    "df.head()"
   ]
  },
  {
   "cell_type": "code",
   "execution_count": 8,
   "metadata": {},
   "outputs": [
    {
     "data": {
      "text/plain": [
       "array(['Iris-setosa', 'Iris-versicolor', 'Iris-virginica',\n",
       "       'Iris-virginica'], dtype=object)"
      ]
     },
     "execution_count": 8,
     "metadata": {},
     "output_type": "execute_result"
    }
   ],
   "source": [
    "label_encoder.inverse_transform([0, 1, 2, 2])"
   ]
  },
  {
   "cell_type": "code",
   "execution_count": 9,
   "metadata": {},
   "outputs": [],
   "source": [
    "data = np.array(df)"
   ]
  },
  {
   "cell_type": "code",
   "execution_count": 10,
   "metadata": {},
   "outputs": [
    {
     "data": {
      "text/plain": [
       "array([[1, 5.1, 3.5, 1.4, 0.2, 'Iris-setosa', 0],\n",
       "       [2, 4.9, 3.0, 1.4, 0.2, 'Iris-setosa', 0],\n",
       "       [3, 4.7, 3.2, 1.3, 0.2, 'Iris-setosa', 0],\n",
       "       [4, 4.6, 3.1, 1.5, 0.2, 'Iris-setosa', 0],\n",
       "       [5, 5.0, 3.6, 1.4, 0.2, 'Iris-setosa', 0]], dtype=object)"
      ]
     },
     "execution_count": 10,
     "metadata": {},
     "output_type": "execute_result"
    }
   ],
   "source": [
    "data[0:5]"
   ]
  },
  {
   "cell_type": "code",
   "execution_count": 11,
   "metadata": {},
   "outputs": [],
   "source": [
    "train, test = model_selection.train_test_split(data, train_size=0.8)"
   ]
  },
  {
   "cell_type": "code",
   "execution_count": 12,
   "metadata": {},
   "outputs": [],
   "source": [
    "train_x = train[:,1:-2]\n",
    "train_y = np.expand_dims(train[:,-1], 1)\n",
    "\n",
    "test_x = test[:,1:-2]\n",
    "test_y = np.expand_dims(test[:,-1], 1)"
   ]
  },
  {
   "cell_type": "code",
   "execution_count": 13,
   "metadata": {},
   "outputs": [
    {
     "name": "stdout",
     "output_type": "stream",
     "text": [
      "(120, 4)\n",
      "(120, 1)\n",
      "[[5.6 2.9 3.6 1.3]\n",
      " [6.3 2.8 5.1 1.5]]\n",
      "[[1]\n",
      " [2]]\n"
     ]
    }
   ],
   "source": [
    "print(train_x.shape)\n",
    "print(train_y.shape)\n",
    "print(train_x[0:2])\n",
    "print(train_y[0:2])"
   ]
  },
  {
   "cell_type": "markdown",
   "metadata": {},
   "source": [
    "# <center> **Neural Network** </center>"
   ]
  },
  {
   "cell_type": "code",
   "execution_count": 93,
   "metadata": {},
   "outputs": [],
   "source": [
    "%run ./neural_network.ipynb"
   ]
  },
  {
   "cell_type": "code",
   "execution_count": 94,
   "metadata": {},
   "outputs": [
    {
     "name": "stdout",
     "output_type": "stream",
     "text": [
      "features : 4 \t outputs : 3\n"
     ]
    }
   ],
   "source": [
    "number_of_features = train_x.shape[1]\n",
    "number_of_outputs = len(df['Species'].unique())\n",
    "print(f\"features : {number_of_features} \\t outputs : {number_of_outputs}\")"
   ]
  },
  {
   "cell_type": "code",
   "execution_count": 81,
   "metadata": {},
   "outputs": [],
   "source": [
    "nn = NeuralNetwork(number_of_features, number_of_outputs, loss_function= CrossEntropyLoss(), output_activation_function=SoftmaxActivation())"
   ]
  },
  {
   "cell_type": "code",
   "execution_count": 82,
   "metadata": {},
   "outputs": [],
   "source": [
    "nn.addHiddenLayer(Layer(2, activation_function=ReLUActivation()))"
   ]
  },
  {
   "cell_type": "code",
   "execution_count": 83,
   "metadata": {},
   "outputs": [],
   "source": [
    "nn.initialize()"
   ]
  },
  {
   "cell_type": "code",
   "execution_count": 84,
   "metadata": {},
   "outputs": [
    {
     "data": {
      "text/plain": [
       "array([[5.6],\n",
       "       [2.9],\n",
       "       [3.6],\n",
       "       [1.3]], dtype=object)"
      ]
     },
     "execution_count": 84,
     "metadata": {},
     "output_type": "execute_result"
    }
   ],
   "source": [
    "np.expand_dims(train_x[0], 1)"
   ]
  },
  {
   "cell_type": "code",
   "execution_count": 90,
   "metadata": {},
   "outputs": [
    {
     "name": "stdout",
     "output_type": "stream",
     "text": [
      "Epoch 0, oveservation 119 : loss = 4.6382038402254295\n",
      "Epoch 1, oveservation 119 : loss = 4.6380361714935655\n",
      "Epoch 2, oveservation 119 : loss = 4.6378704759751655\n",
      "Epoch 3, oveservation 119 : loss = 4.63770675748939856\n",
      "Epoch 4, oveservation 119 : loss = 4.6375450198437295\n",
      "Epoch 5, oveservation 119 : loss = 4.6373852668329825\n",
      "Epoch 6, oveservation 119 : loss = 4.6372275022393715\n",
      "Epoch 7, oveservation 119 : loss = 4.6370717298316625\n",
      "Epoch 8, oveservation 119 : loss = 4.6369179533658755\n",
      "Epoch 9, oveservation 119 : loss = 4.6367661765831215\n",
      "Epoch 10, oveservation 119 : loss = 4.6366164032115665\n",
      "Epoch 11, oveservation 119 : loss = 4.6364686369639765\n",
      "Epoch 12, oveservation 119 : loss = 4.6363228815388395\n",
      "Epoch 13, oveservation 119 : loss = 4.6361791406185185\n",
      "Epoch 14, oveservation 119 : loss = 4.6360374178707965\n",
      "Epoch 15, oveservation 119 : loss = 4.6358977169463575\n",
      "Epoch 16, oveservation 119 : loss = 4.6357600414804345\n",
      "Epoch 17, oveservation 119 : loss = 4.6356243950903295\n",
      "Epoch 18, oveservation 119 : loss = 4.6354907813774475\n",
      "Epoch 19, oveservation 119 : loss = 4.6353592039239955\n",
      "Epoch 20, oveservation 119 : loss = 4.6352296662957595\n",
      "Epoch 21, oveservation 119 : loss = 4.63510217203843975\n",
      "Epoch 22, oveservation 119 : loss = 4.6349767246806906\n",
      "Epoch 23, oveservation 119 : loss = 4.6348533277297045\n",
      "Epoch 24, oveservation 119 : loss = 4.63473198467557854\n",
      "Epoch 25, oveservation 119 : loss = 4.6346126989853665\n",
      "Epoch 26, oveservation 119 : loss = 4.6344954741089684\n",
      "Epoch 27, oveservation 119 : loss = 4.6343803134713345\n",
      "Epoch 28, oveservation 119 : loss = 4.6342672204810659\n",
      "Epoch 29, oveservation 119 : loss = 4.6341561985188045\n",
      "Epoch 30, oveservation 119 : loss = 4.63404725095063755\n",
      "Epoch 31, oveservation 119 : loss = 4.6339403811107885\n",
      "Epoch 32, oveservation 119 : loss = 4.6338355923219546\n",
      "Epoch 33, oveservation 119 : loss = 4.63373288786887265\n",
      "Epoch 34, oveservation 119 : loss = 4.6336322710313095\n",
      "Epoch 35, oveservation 119 : loss = 4.6335337450403775\n",
      "Epoch 36, oveservation 119 : loss = 4.6334373131344655\n",
      "Epoch 37, oveservation 119 : loss = 4.6333429784849315\n",
      "Epoch 38, oveservation 119 : loss = 4.6332507442938325\n",
      "Epoch 39, oveservation 119 : loss = 4.63316061366184955\n",
      "Epoch 40, oveservation 119 : loss = 4.63307258976631155\n",
      "Epoch 41, oveservation 119 : loss = 4.6329866756168485\n",
      "Epoch 42, oveservation 119 : loss = 4.6329028743921465\n",
      "Epoch 43, oveservation 119 : loss = 4.6328211889685545\n",
      "Epoch 44, oveservation 119 : loss = 4.6327416225847125\n",
      "Epoch 45, oveservation 119 : loss = 4.6326641778933745\n",
      "Epoch 46, oveservation 119 : loss = 4.6325888583247185\n",
      "Epoch 47, oveservation 119 : loss = 4.6325156661049975\n",
      "Epoch 48, oveservation 119 : loss = 4.6324446051627125\n",
      "Epoch 49, oveservation 119 : loss = 4.6323756768218135\n",
      "Epoch 50, oveservation 119 : loss = 4.6323088862443575\n",
      "Epoch 51, oveservation 119 : loss = 4.6322442326970215\n",
      "Epoch 52, oveservation 119 : loss = 4.6321817243973355\n",
      "Epoch 53, oveservation 119 : loss = 4.6321213556477065\n",
      "Epoch 54, oveservation 119 : loss = 4.6320631423909185\n",
      "Epoch 55, oveservation 119 : loss = 4.6320070663907525\n",
      "Epoch 56, oveservation 119 : loss = 4.6319531637003995\n",
      "Epoch 57, oveservation 119 : loss = 4.6319013831090485\n",
      "Epoch 58, oveservation 119 : loss = 4.6318518147863316\n",
      "Epoch 59, oveservation 119 : loss = 4.6318043174600949\n",
      "Epoch 60, oveservation 119 : loss = 4.63175913207693755\n",
      "Epoch 61, oveservation 119 : loss = 4.6317158622031592\n",
      "Epoch 62, oveservation 119 : loss = 4.6316751840096535\n",
      "Epoch 63, oveservation 119 : loss = 4.6316359515585835\n",
      "Epoch 64, oveservation 119 : loss = 4.6316001428393185\n",
      "Epoch 65, oveservation 119 : loss = 4.63156433001736254\n",
      "Epoch 66, oveservation 119 : loss = 4.6315345261733765\n",
      "Epoch 67, oveservation 119 : loss = 4.6315001038971715\n",
      "Epoch 68, oveservation 119 : loss = 4.6314800359342635\n",
      "Epoch 69, oveservation 119 : loss = 4.6314401578767835\n",
      "Epoch 70, oveservation 119 : loss = 4.6314425673821835\n",
      "Epoch 71, oveservation 119 : loss = 4.6313733772111875\n",
      "Epoch 72, oveservation 119 : loss = 4.6314433467048665\n",
      "Epoch 73, oveservation 119 : loss = 4.6312588365390465\n",
      "Epoch 74, oveservation 119 : loss = 4.6315613808897845\n",
      "Epoch 75, oveservation 119 : loss = 4.63094027237985855\n",
      "Epoch 76, oveservation 119 : loss = 4.63209855942444955\n",
      "Epoch 77, oveservation 119 : loss = 4.6297932200113955\n",
      "Epoch 78, oveservation 119 : loss = 4.63420655497728455\n",
      "Epoch 79, oveservation 119 : loss = 4.6251641141172984\n",
      "Epoch 80, oveservation 119 : loss = 4.64152637695917855\n",
      "Epoch 81, oveservation 119 : loss = 4.6074728760422335\n",
      "Epoch 82, oveservation 119 : loss = 4.6501490676740485\n",
      "Epoch 83, oveservation 119 : loss = 4.5969865080178165\n",
      "Epoch 84, oveservation 119 : loss = 4.6421468360508732\n",
      "Epoch 85, oveservation 119 : loss = 4.6274974256631655\n",
      "Epoch 86, oveservation 119 : loss = 4.6415339684650165\n",
      "Epoch 87, oveservation 119 : loss = 4.6066137613593185\n",
      "Epoch 88, oveservation 119 : loss = 4.6514541349888615\n",
      "Epoch 89, oveservation 119 : loss = 4.5942845801889595\n",
      "Epoch 90, oveservation 119 : loss = 4.6393820673414965\n",
      "Epoch 91, oveservation 119 : loss = 4.6374814003271915\n",
      "Epoch 92, oveservation 119 : loss = 4.6226444011602715\n",
      "Epoch 93, oveservation 119 : loss = 4.6466464820500315\n",
      "Epoch 94, oveservation 119 : loss = 4.59462089359539554\n",
      "Epoch 95, oveservation 119 : loss = 4.6438042393798895\n",
      "Epoch 96, oveservation 119 : loss = 4.6230420148771445\n",
      "Epoch 97, oveservation 119 : loss = 4.6489440932040155\n",
      "Epoch 98, oveservation 119 : loss = 4.5921964830766351\n",
      "Epoch 99, oveservation 119 : loss = 4.6397873359300585\n",
      "\r"
     ]
    }
   ],
   "source": [
    "epochs = 100\n",
    "\n",
    "nn.evaluate(train_x, train_y, learning_rate=0.05, epochs=epochs)"
   ]
  },
  {
   "cell_type": "code",
   "execution_count": 86,
   "metadata": {},
   "outputs": [],
   "source": [
    "def getIndex(prob):\n",
    "    res = 0\n",
    "    mx = prob[0][0]\n",
    "    for i in range(1, prob.shape[0]):\n",
    "        if prob[i][0] > mx:\n",
    "            res = i\n",
    "            mx = prob[i][0]\n",
    "    \n",
    "    return res"
   ]
  },
  {
   "cell_type": "code",
   "execution_count": 91,
   "metadata": {},
   "outputs": [
    {
     "name": "stdout",
     "output_type": "stream",
     "text": [
      "pred : 0 \t actual : 0\n",
      "pred : 1 \t actual : 1\n",
      "pred : 0 \t actual : 0\n",
      "pred : 0 \t actual : 0\n",
      "pred : 0 \t actual : 0\n",
      "pred : 0 \t actual : 0\n",
      "pred : 0 \t actual : 0\n",
      "pred : 0 \t actual : 0\n",
      "pred : 1 \t actual : 1\n",
      "pred : 1 \t actual : 1\n",
      "pred : 1 \t actual : 1\n",
      "pred : 0 \t actual : 0\n",
      "pred : 0 \t actual : 0\n",
      "pred : 2 \t actual : 2\n",
      "pred : 0 \t actual : 0\n",
      "pred : 2 \t actual : 2\n",
      "pred : 0 \t actual : 0\n",
      "pred : 0 \t actual : 0\n",
      "pred : 2 \t actual : 2\n",
      "pred : 1 \t actual : 1\n",
      "pred : 2 \t actual : 2\n",
      "pred : 1 \t actual : 1\n",
      "pred : 0 \t actual : 0\n",
      "pred : 0 \t actual : 0\n",
      "pred : 1 \t actual : 1\n",
      "pred : 1 \t actual : 1\n",
      "pred : 0 \t actual : 0\n",
      "pred : 2 \t actual : 2\n",
      "pred : 0 \t actual : 0\n",
      "pred : 2 \t actual : 2\n",
      "Correct predict : 30 out of 30\n"
     ]
    }
   ],
   "source": [
    "prob = nn.predict(test_x)\n",
    "\n",
    "true_predicted = 0\n",
    "for i in range(len(prob)):\n",
    "    pred = getIndex(prob[i])\n",
    "    actual = test_y[i][0]\n",
    "    print(f\"pred : {pred} \\t actual : {actual}\")\n",
    "    if pred == actual:\n",
    "        true_predicted += 1\n",
    "\n",
    "print(f\"Correct predict : {true_predicted} out of {len(test_x)}\")"
   ]
  },
  {
   "cell_type": "code",
   "execution_count": 89,
   "metadata": {},
   "outputs": [
    {
     "name": "stdout",
     "output_type": "stream",
     "text": [
      "[array([[-7.89684457,  0.21962719],\n",
      "       [-8.4492774 , -0.95938153],\n",
      "       [13.13374724,  0.65350606],\n",
      "       [15.73649244, -0.25083527]]), array([[-2.01083389,  0.71413034,  2.16110126],\n",
      "       [-7.09567982,  3.62234387,  3.62663394]])]\n"
     ]
    }
   ],
   "source": [
    "print(nn.weights)"
   ]
  },
  {
   "cell_type": "code",
   "execution_count": 92,
   "metadata": {},
   "outputs": [
    {
     "name": "stdout",
     "output_type": "stream",
     "text": [
      "[array([[-7.86675508,  0.24804687],\n",
      "       [-8.88894748, -1.05625505],\n",
      "       [13.35979119,  0.68330262],\n",
      "       [16.31501488, -0.32163252]]), array([[-2.01083399,  0.71848213,  2.15674956],\n",
      "       [-7.31086741,  3.73262678,  3.73153862]])]\n"
     ]
    }
   ],
   "source": [
    "print(nn.weights)"
   ]
  },
  {
   "cell_type": "code",
   "execution_count": null,
   "metadata": {},
   "outputs": [],
   "source": []
  }
 ],
 "metadata": {
  "kernelspec": {
   "display_name": "Python 3",
   "language": "python",
   "name": "python3"
  },
  "language_info": {
   "codemirror_mode": {
    "name": "ipython",
    "version": 3
   },
   "file_extension": ".py",
   "mimetype": "text/x-python",
   "name": "python",
   "nbconvert_exporter": "python",
   "pygments_lexer": "ipython3",
   "version": "3.11.4"
  }
 },
 "nbformat": 4,
 "nbformat_minor": 2
}
