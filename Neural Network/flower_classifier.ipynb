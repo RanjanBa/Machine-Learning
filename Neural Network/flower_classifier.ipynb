{
 "cells": [
  {
   "cell_type": "code",
   "execution_count": 66,
   "metadata": {},
   "outputs": [],
   "source": [
    "import numpy as np\n",
    "import pandas as pd\n",
    "from sklearn import preprocessing, model_selection"
   ]
  },
  {
   "cell_type": "code",
   "execution_count": 67,
   "metadata": {},
   "outputs": [],
   "source": [
    "df = pd.read_csv('../Datasets/iris.csv')"
   ]
  },
  {
   "cell_type": "code",
   "execution_count": 68,
   "metadata": {},
   "outputs": [
    {
     "data": {
      "text/html": [
       "<div>\n",
       "<style scoped>\n",
       "    .dataframe tbody tr th:only-of-type {\n",
       "        vertical-align: middle;\n",
       "    }\n",
       "\n",
       "    .dataframe tbody tr th {\n",
       "        vertical-align: top;\n",
       "    }\n",
       "\n",
       "    .dataframe thead th {\n",
       "        text-align: right;\n",
       "    }\n",
       "</style>\n",
       "<table border=\"1\" class=\"dataframe\">\n",
       "  <thead>\n",
       "    <tr style=\"text-align: right;\">\n",
       "      <th></th>\n",
       "      <th>Id</th>\n",
       "      <th>SepalLengthCm</th>\n",
       "      <th>SepalWidthCm</th>\n",
       "      <th>PetalLengthCm</th>\n",
       "      <th>PetalWidthCm</th>\n",
       "      <th>Species</th>\n",
       "    </tr>\n",
       "  </thead>\n",
       "  <tbody>\n",
       "    <tr>\n",
       "      <th>0</th>\n",
       "      <td>1</td>\n",
       "      <td>5.1</td>\n",
       "      <td>3.5</td>\n",
       "      <td>1.4</td>\n",
       "      <td>0.2</td>\n",
       "      <td>Iris-setosa</td>\n",
       "    </tr>\n",
       "    <tr>\n",
       "      <th>1</th>\n",
       "      <td>2</td>\n",
       "      <td>4.9</td>\n",
       "      <td>3.0</td>\n",
       "      <td>1.4</td>\n",
       "      <td>0.2</td>\n",
       "      <td>Iris-setosa</td>\n",
       "    </tr>\n",
       "    <tr>\n",
       "      <th>2</th>\n",
       "      <td>3</td>\n",
       "      <td>4.7</td>\n",
       "      <td>3.2</td>\n",
       "      <td>1.3</td>\n",
       "      <td>0.2</td>\n",
       "      <td>Iris-setosa</td>\n",
       "    </tr>\n",
       "    <tr>\n",
       "      <th>3</th>\n",
       "      <td>4</td>\n",
       "      <td>4.6</td>\n",
       "      <td>3.1</td>\n",
       "      <td>1.5</td>\n",
       "      <td>0.2</td>\n",
       "      <td>Iris-setosa</td>\n",
       "    </tr>\n",
       "    <tr>\n",
       "      <th>4</th>\n",
       "      <td>5</td>\n",
       "      <td>5.0</td>\n",
       "      <td>3.6</td>\n",
       "      <td>1.4</td>\n",
       "      <td>0.2</td>\n",
       "      <td>Iris-setosa</td>\n",
       "    </tr>\n",
       "  </tbody>\n",
       "</table>\n",
       "</div>"
      ],
      "text/plain": [
       "   Id  SepalLengthCm  SepalWidthCm  PetalLengthCm  PetalWidthCm      Species\n",
       "0   1            5.1           3.5            1.4           0.2  Iris-setosa\n",
       "1   2            4.9           3.0            1.4           0.2  Iris-setosa\n",
       "2   3            4.7           3.2            1.3           0.2  Iris-setosa\n",
       "3   4            4.6           3.1            1.5           0.2  Iris-setosa\n",
       "4   5            5.0           3.6            1.4           0.2  Iris-setosa"
      ]
     },
     "execution_count": 68,
     "metadata": {},
     "output_type": "execute_result"
    }
   ],
   "source": [
    "df.head()"
   ]
  },
  {
   "cell_type": "code",
   "execution_count": 69,
   "metadata": {},
   "outputs": [
    {
     "data": {
      "text/plain": [
       "array(['Iris-setosa', 'Iris-versicolor', 'Iris-virginica'], dtype=object)"
      ]
     },
     "execution_count": 69,
     "metadata": {},
     "output_type": "execute_result"
    }
   ],
   "source": [
    "df['Species'].unique()"
   ]
  },
  {
   "cell_type": "code",
   "execution_count": 70,
   "metadata": {},
   "outputs": [
    {
     "data": {
      "text/plain": [
       "Species\n",
       "Iris-setosa        50\n",
       "Iris-versicolor    50\n",
       "Iris-virginica     50\n",
       "Name: count, dtype: int64"
      ]
     },
     "execution_count": 70,
     "metadata": {},
     "output_type": "execute_result"
    }
   ],
   "source": [
    "df['Species'].value_counts()"
   ]
  },
  {
   "cell_type": "code",
   "execution_count": 71,
   "metadata": {},
   "outputs": [],
   "source": [
    "label_encoder = preprocessing.LabelEncoder()\n",
    "df['Species Encoded'] = label_encoder.fit_transform(df['Species'])"
   ]
  },
  {
   "cell_type": "code",
   "execution_count": 72,
   "metadata": {},
   "outputs": [
    {
     "data": {
      "text/html": [
       "<div>\n",
       "<style scoped>\n",
       "    .dataframe tbody tr th:only-of-type {\n",
       "        vertical-align: middle;\n",
       "    }\n",
       "\n",
       "    .dataframe tbody tr th {\n",
       "        vertical-align: top;\n",
       "    }\n",
       "\n",
       "    .dataframe thead th {\n",
       "        text-align: right;\n",
       "    }\n",
       "</style>\n",
       "<table border=\"1\" class=\"dataframe\">\n",
       "  <thead>\n",
       "    <tr style=\"text-align: right;\">\n",
       "      <th></th>\n",
       "      <th>Id</th>\n",
       "      <th>SepalLengthCm</th>\n",
       "      <th>SepalWidthCm</th>\n",
       "      <th>PetalLengthCm</th>\n",
       "      <th>PetalWidthCm</th>\n",
       "      <th>Species</th>\n",
       "      <th>Species Encoded</th>\n",
       "    </tr>\n",
       "  </thead>\n",
       "  <tbody>\n",
       "    <tr>\n",
       "      <th>0</th>\n",
       "      <td>1</td>\n",
       "      <td>5.1</td>\n",
       "      <td>3.5</td>\n",
       "      <td>1.4</td>\n",
       "      <td>0.2</td>\n",
       "      <td>Iris-setosa</td>\n",
       "      <td>0</td>\n",
       "    </tr>\n",
       "    <tr>\n",
       "      <th>1</th>\n",
       "      <td>2</td>\n",
       "      <td>4.9</td>\n",
       "      <td>3.0</td>\n",
       "      <td>1.4</td>\n",
       "      <td>0.2</td>\n",
       "      <td>Iris-setosa</td>\n",
       "      <td>0</td>\n",
       "    </tr>\n",
       "    <tr>\n",
       "      <th>2</th>\n",
       "      <td>3</td>\n",
       "      <td>4.7</td>\n",
       "      <td>3.2</td>\n",
       "      <td>1.3</td>\n",
       "      <td>0.2</td>\n",
       "      <td>Iris-setosa</td>\n",
       "      <td>0</td>\n",
       "    </tr>\n",
       "    <tr>\n",
       "      <th>3</th>\n",
       "      <td>4</td>\n",
       "      <td>4.6</td>\n",
       "      <td>3.1</td>\n",
       "      <td>1.5</td>\n",
       "      <td>0.2</td>\n",
       "      <td>Iris-setosa</td>\n",
       "      <td>0</td>\n",
       "    </tr>\n",
       "    <tr>\n",
       "      <th>4</th>\n",
       "      <td>5</td>\n",
       "      <td>5.0</td>\n",
       "      <td>3.6</td>\n",
       "      <td>1.4</td>\n",
       "      <td>0.2</td>\n",
       "      <td>Iris-setosa</td>\n",
       "      <td>0</td>\n",
       "    </tr>\n",
       "  </tbody>\n",
       "</table>\n",
       "</div>"
      ],
      "text/plain": [
       "   Id  SepalLengthCm  SepalWidthCm  PetalLengthCm  PetalWidthCm      Species  \\\n",
       "0   1            5.1           3.5            1.4           0.2  Iris-setosa   \n",
       "1   2            4.9           3.0            1.4           0.2  Iris-setosa   \n",
       "2   3            4.7           3.2            1.3           0.2  Iris-setosa   \n",
       "3   4            4.6           3.1            1.5           0.2  Iris-setosa   \n",
       "4   5            5.0           3.6            1.4           0.2  Iris-setosa   \n",
       "\n",
       "   Species Encoded  \n",
       "0                0  \n",
       "1                0  \n",
       "2                0  \n",
       "3                0  \n",
       "4                0  "
      ]
     },
     "execution_count": 72,
     "metadata": {},
     "output_type": "execute_result"
    }
   ],
   "source": [
    "df.head()"
   ]
  },
  {
   "cell_type": "code",
   "execution_count": 73,
   "metadata": {},
   "outputs": [
    {
     "data": {
      "text/plain": [
       "array(['Iris-setosa', 'Iris-versicolor', 'Iris-virginica',\n",
       "       'Iris-virginica'], dtype=object)"
      ]
     },
     "execution_count": 73,
     "metadata": {},
     "output_type": "execute_result"
    }
   ],
   "source": [
    "label_encoder.inverse_transform([0, 1, 2, 2])"
   ]
  },
  {
   "cell_type": "code",
   "execution_count": 74,
   "metadata": {},
   "outputs": [],
   "source": [
    "data = np.array(df)"
   ]
  },
  {
   "cell_type": "code",
   "execution_count": 75,
   "metadata": {},
   "outputs": [
    {
     "data": {
      "text/plain": [
       "array([[1, 5.1, 3.5, 1.4, 0.2, 'Iris-setosa', 0],\n",
       "       [2, 4.9, 3.0, 1.4, 0.2, 'Iris-setosa', 0],\n",
       "       [3, 4.7, 3.2, 1.3, 0.2, 'Iris-setosa', 0],\n",
       "       [4, 4.6, 3.1, 1.5, 0.2, 'Iris-setosa', 0],\n",
       "       [5, 5.0, 3.6, 1.4, 0.2, 'Iris-setosa', 0]], dtype=object)"
      ]
     },
     "execution_count": 75,
     "metadata": {},
     "output_type": "execute_result"
    }
   ],
   "source": [
    "data[0:5]"
   ]
  },
  {
   "cell_type": "code",
   "execution_count": 76,
   "metadata": {},
   "outputs": [],
   "source": [
    "train, test = model_selection.train_test_split(data, train_size=0.8)"
   ]
  },
  {
   "cell_type": "code",
   "execution_count": 77,
   "metadata": {},
   "outputs": [],
   "source": [
    "train_x = train[:,1:-2]\n",
    "train_y = np.expand_dims(train[:,-1], 1)\n",
    "\n",
    "test_x = test[:,1:-2]\n",
    "test_y = np.expand_dims(test[:,-1], 1)"
   ]
  },
  {
   "cell_type": "code",
   "execution_count": 78,
   "metadata": {},
   "outputs": [
    {
     "name": "stdout",
     "output_type": "stream",
     "text": [
      "(120, 4)\n",
      "(120, 1)\n",
      "[[6.2 2.2 4.5 1.5]\n",
      " [5.9 3.0 4.2 1.5]]\n",
      "[[1]\n",
      " [1]]\n"
     ]
    }
   ],
   "source": [
    "print(train_x.shape)\n",
    "print(train_y.shape)\n",
    "print(train_x[0:2])\n",
    "print(train_y[0:2])"
   ]
  },
  {
   "cell_type": "code",
   "execution_count": 138,
   "metadata": {},
   "outputs": [
    {
     "name": "stdout",
     "output_type": "stream",
     "text": [
      "features : 4 \t outputs : 3\n"
     ]
    }
   ],
   "source": [
    "number_of_features = train_x.shape[1]\n",
    "number_of_outputs = len(df['Species'].unique())\n",
    "print(f\"features : {number_of_features} \\t outputs : {number_of_outputs}\")"
   ]
  },
  {
   "cell_type": "markdown",
   "metadata": {},
   "source": [
    "# <center> **Neural Network** </center>"
   ]
  },
  {
   "cell_type": "code",
   "execution_count": 157,
   "metadata": {},
   "outputs": [],
   "source": [
    "%run ./neural_network.ipynb"
   ]
  },
  {
   "cell_type": "code",
   "execution_count": 166,
   "metadata": {},
   "outputs": [],
   "source": [
    "nn = NeuralNetwork(number_of_features, number_of_outputs, loss_function=MeanSqureLoss(), output_activation_function=SoftmaxActivation())"
   ]
  },
  {
   "cell_type": "code",
   "execution_count": 167,
   "metadata": {},
   "outputs": [],
   "source": [
    "nn.addHiddenLayer(Layer(2, activation_function=SigmoidActivation()))"
   ]
  },
  {
   "cell_type": "code",
   "execution_count": 168,
   "metadata": {},
   "outputs": [],
   "source": [
    "nn.initialize()"
   ]
  },
  {
   "cell_type": "code",
   "execution_count": 176,
   "metadata": {},
   "outputs": [
    {
     "name": "stdout",
     "output_type": "stream",
     "text": [
      "Epoch 1, oveservation 120 : loss = 0.01590331358283249334\n",
      "Epoch 2, oveservation 120 : loss = 0.01590136898065404743\n",
      "Epoch 3, oveservation 120 : loss = 0.01589942324450195383\n",
      "Epoch 4, oveservation 120 : loss = 0.01589747637228682784\n",
      "Epoch 5, oveservation 120 : loss = 0.01589552836197472745\n",
      "Epoch 6, oveservation 120 : loss = 0.01589357921158657024\n",
      "Epoch 7, oveservation 120 : loss = 0.01589162891919842487\n",
      "Epoch 8, oveservation 120 : loss = 0.01588967748294007836\n",
      "Epoch 9, oveservation 120 : loss = 0.01588772490099597876\n",
      "Epoch 10, oveservation 120 : loss = 0.01588577117160381435\n",
      "Epoch 11, oveservation 120 : loss = 0.01588381629305476645\n",
      "Epoch 12, oveservation 120 : loss = 0.01588186026369296477\n",
      "Epoch 13, oveservation 120 : loss = 0.01587990308191500736\n",
      "Epoch 14, oveservation 120 : loss = 0.01587794474617040586\n",
      "Epoch 15, oveservation 120 : loss = 0.01587598525496003837\n",
      "Epoch 16, oveservation 120 : loss = 0.01587402460683683847\n",
      "Epoch 17, oveservation 120 : loss = 0.01587206280040523373\n",
      "Epoch 18, oveservation 120 : loss = 0.01587009983432044955\n",
      "Epoch 19, oveservation 120 : loss = 0.01586813570728869585\n",
      "Epoch 20, oveservation 120 : loss = 0.01586617041806671637\n",
      "Epoch 21, oveservation 120 : loss = 0.01586420396546126775\n",
      "Epoch 22, oveservation 120 : loss = 0.01586223634832938855\n",
      "Epoch 23, oveservation 120 : loss = 0.01586026756557729813\n",
      "Epoch 24, oveservation 120 : loss = 0.01585829761616095645\n",
      "Epoch 25, oveservation 120 : loss = 0.01585632649908528756\n",
      "Epoch 26, oveservation 120 : loss = 0.01585435421340388244\n",
      "Epoch 27, oveservation 120 : loss = 0.01585238075821898337\n",
      "Epoch 28, oveservation 120 : loss = 0.01585040613268141547\n",
      "Epoch 29, oveservation 120 : loss = 0.01584843033598951876\n",
      "Epoch 30, oveservation 120 : loss = 0.01584645336738968886\n",
      "Epoch 31, oveservation 120 : loss = 0.01584447522617577324\n",
      "Epoch 32, oveservation 120 : loss = 0.01584249591168889664\n",
      "Epoch 33, oveservation 120 : loss = 0.01584051542331742677\n",
      "Epoch 34, oveservation 120 : loss = 0.01583853376049592544\n",
      "Epoch 35, oveservation 120 : loss = 0.01583655092270601704\n",
      "Epoch 36, oveservation 120 : loss = 0.01583456690947576316\n",
      "Epoch 37, oveservation 120 : loss = 0.01583258172037855464\n",
      "Epoch 38, oveservation 120 : loss = 0.01583059535503422474\n",
      "Epoch 39, oveservation 120 : loss = 0.01582860781310833946\n",
      "Epoch 40, oveservation 120 : loss = 0.01582661909431137853\n",
      "Epoch 41, oveservation 120 : loss = 0.01582462919839908866\n",
      "Epoch 42, oveservation 120 : loss = 0.01582263812517261556\n",
      "Epoch 43, oveservation 120 : loss = 0.01582064587447722866\n",
      "Epoch 44, oveservation 120 : loss = 0.01581865244620308776\n",
      "Epoch 45, oveservation 120 : loss = 0.01581665784028483314\n",
      "Epoch 46, oveservation 120 : loss = 0.01581466205670081876\n",
      "Epoch 47, oveservation 120 : loss = 0.01581266509547358473\n",
      "Epoch 48, oveservation 120 : loss = 0.01581066695666911683\n",
      "Epoch 49, oveservation 120 : loss = 0.01580866764039708376\n",
      "Epoch 50, oveservation 120 : loss = 0.01580666714681070656\n"
     ]
    }
   ],
   "source": [
    "epochs = 50\n",
    "\n",
    "nn.evaluate(train_x, train_y, learning_rate=0.005, epochs=epochs)"
   ]
  },
  {
   "cell_type": "code",
   "execution_count": 178,
   "metadata": {},
   "outputs": [],
   "source": [
    "def getIndex(prob):\n",
    "    res = 0\n",
    "    mx = prob[0][0]\n",
    "    for i in range(1, prob.shape[0]):\n",
    "        if prob[i][0] > mx:\n",
    "            res = i\n",
    "            mx = prob[i][0]\n",
    "    \n",
    "    return res"
   ]
  },
  {
   "cell_type": "code",
   "execution_count": 179,
   "metadata": {},
   "outputs": [
    {
     "name": "stdout",
     "output_type": "stream",
     "text": [
      "pred : 0 \t actual : 0\n",
      "pred : 0 \t actual : 0\n",
      "pred : 0 \t actual : 0\n",
      "pred : 2 \t actual : 2\n",
      "pred : 0 \t actual : 0\n",
      "pred : 0 \t actual : 0\n",
      "pred : 2 \t actual : 2\n",
      "pred : 0 \t actual : 0\n",
      "pred : 2 \t actual : 2\n",
      "pred : 2 \t actual : 2\n",
      "pred : 1 \t actual : 1\n",
      "pred : 2 \t actual : 2\n",
      "pred : 1 \t actual : 1\n",
      "pred : 1 \t actual : 1\n",
      "pred : 0 \t actual : 0\n",
      "pred : 2 \t actual : 1\n",
      "pred : 0 \t actual : 0\n",
      "pred : 0 \t actual : 0\n",
      "pred : 0 \t actual : 0\n",
      "pred : 1 \t actual : 1\n",
      "pred : 2 \t actual : 2\n",
      "pred : 2 \t actual : 2\n",
      "pred : 2 \t actual : 2\n",
      "pred : 2 \t actual : 2\n",
      "pred : 0 \t actual : 0\n",
      "pred : 2 \t actual : 2\n",
      "pred : 2 \t actual : 2\n",
      "pred : 0 \t actual : 0\n",
      "pred : 2 \t actual : 2\n",
      "pred : 0 \t actual : 0\n",
      "Correct predict : 29 out of 30\n"
     ]
    }
   ],
   "source": [
    "prob = nn.predict(test_x)\n",
    "\n",
    "true_predicted = 0\n",
    "for i in range(len(prob)):\n",
    "    pred = getIndex(prob[i])\n",
    "    actual = test_y[i][0]\n",
    "    print(f\"pred : {pred} \\t actual : {actual}\")\n",
    "    if pred == actual:\n",
    "        true_predicted += 1\n",
    "\n",
    "print(f\"Correct predict : {true_predicted} out of {len(test_x)}\")"
   ]
  },
  {
   "cell_type": "code",
   "execution_count": null,
   "metadata": {},
   "outputs": [],
   "source": []
  }
 ],
 "metadata": {
  "kernelspec": {
   "display_name": "Python 3",
   "language": "python",
   "name": "python3"
  },
  "language_info": {
   "codemirror_mode": {
    "name": "ipython",
    "version": 3
   },
   "file_extension": ".py",
   "mimetype": "text/x-python",
   "name": "python",
   "nbconvert_exporter": "python",
   "pygments_lexer": "ipython3",
   "version": "3.11.4"
  }
 },
 "nbformat": 4,
 "nbformat_minor": 2
}
