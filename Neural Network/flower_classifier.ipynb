{
 "cells": [
  {
   "cell_type": "code",
   "execution_count": 1,
   "metadata": {},
   "outputs": [],
   "source": [
    "import numpy as np\n",
    "import pandas as pd\n",
    "from sklearn import preprocessing, model_selection"
   ]
  },
  {
   "cell_type": "code",
   "execution_count": 2,
   "metadata": {},
   "outputs": [],
   "source": [
    "df = pd.read_csv('../Datasets/iris.csv')"
   ]
  },
  {
   "cell_type": "code",
   "execution_count": 3,
   "metadata": {},
   "outputs": [
    {
     "data": {
      "text/html": [
       "<div>\n",
       "<style scoped>\n",
       "    .dataframe tbody tr th:only-of-type {\n",
       "        vertical-align: middle;\n",
       "    }\n",
       "\n",
       "    .dataframe tbody tr th {\n",
       "        vertical-align: top;\n",
       "    }\n",
       "\n",
       "    .dataframe thead th {\n",
       "        text-align: right;\n",
       "    }\n",
       "</style>\n",
       "<table border=\"1\" class=\"dataframe\">\n",
       "  <thead>\n",
       "    <tr style=\"text-align: right;\">\n",
       "      <th></th>\n",
       "      <th>Id</th>\n",
       "      <th>SepalLengthCm</th>\n",
       "      <th>SepalWidthCm</th>\n",
       "      <th>PetalLengthCm</th>\n",
       "      <th>PetalWidthCm</th>\n",
       "      <th>Species</th>\n",
       "    </tr>\n",
       "  </thead>\n",
       "  <tbody>\n",
       "    <tr>\n",
       "      <th>0</th>\n",
       "      <td>1</td>\n",
       "      <td>5.1</td>\n",
       "      <td>3.5</td>\n",
       "      <td>1.4</td>\n",
       "      <td>0.2</td>\n",
       "      <td>Iris-setosa</td>\n",
       "    </tr>\n",
       "    <tr>\n",
       "      <th>1</th>\n",
       "      <td>2</td>\n",
       "      <td>4.9</td>\n",
       "      <td>3.0</td>\n",
       "      <td>1.4</td>\n",
       "      <td>0.2</td>\n",
       "      <td>Iris-setosa</td>\n",
       "    </tr>\n",
       "    <tr>\n",
       "      <th>2</th>\n",
       "      <td>3</td>\n",
       "      <td>4.7</td>\n",
       "      <td>3.2</td>\n",
       "      <td>1.3</td>\n",
       "      <td>0.2</td>\n",
       "      <td>Iris-setosa</td>\n",
       "    </tr>\n",
       "    <tr>\n",
       "      <th>3</th>\n",
       "      <td>4</td>\n",
       "      <td>4.6</td>\n",
       "      <td>3.1</td>\n",
       "      <td>1.5</td>\n",
       "      <td>0.2</td>\n",
       "      <td>Iris-setosa</td>\n",
       "    </tr>\n",
       "    <tr>\n",
       "      <th>4</th>\n",
       "      <td>5</td>\n",
       "      <td>5.0</td>\n",
       "      <td>3.6</td>\n",
       "      <td>1.4</td>\n",
       "      <td>0.2</td>\n",
       "      <td>Iris-setosa</td>\n",
       "    </tr>\n",
       "  </tbody>\n",
       "</table>\n",
       "</div>"
      ],
      "text/plain": [
       "   Id  SepalLengthCm  SepalWidthCm  PetalLengthCm  PetalWidthCm      Species\n",
       "0   1            5.1           3.5            1.4           0.2  Iris-setosa\n",
       "1   2            4.9           3.0            1.4           0.2  Iris-setosa\n",
       "2   3            4.7           3.2            1.3           0.2  Iris-setosa\n",
       "3   4            4.6           3.1            1.5           0.2  Iris-setosa\n",
       "4   5            5.0           3.6            1.4           0.2  Iris-setosa"
      ]
     },
     "execution_count": 3,
     "metadata": {},
     "output_type": "execute_result"
    }
   ],
   "source": [
    "df.head()"
   ]
  },
  {
   "cell_type": "code",
   "execution_count": 4,
   "metadata": {},
   "outputs": [
    {
     "data": {
      "text/plain": [
       "array(['Iris-setosa', 'Iris-versicolor', 'Iris-virginica'], dtype=object)"
      ]
     },
     "execution_count": 4,
     "metadata": {},
     "output_type": "execute_result"
    }
   ],
   "source": [
    "df['Species'].unique()"
   ]
  },
  {
   "cell_type": "code",
   "execution_count": 5,
   "metadata": {},
   "outputs": [
    {
     "data": {
      "text/plain": [
       "Species\n",
       "Iris-setosa        50\n",
       "Iris-versicolor    50\n",
       "Iris-virginica     50\n",
       "Name: count, dtype: int64"
      ]
     },
     "execution_count": 5,
     "metadata": {},
     "output_type": "execute_result"
    }
   ],
   "source": [
    "df['Species'].value_counts()"
   ]
  },
  {
   "cell_type": "code",
   "execution_count": 6,
   "metadata": {},
   "outputs": [],
   "source": [
    "label_encoder = preprocessing.LabelEncoder()\n",
    "df['Species Encoded'] = label_encoder.fit_transform(df['Species'])"
   ]
  },
  {
   "cell_type": "code",
   "execution_count": 7,
   "metadata": {},
   "outputs": [
    {
     "data": {
      "text/html": [
       "<div>\n",
       "<style scoped>\n",
       "    .dataframe tbody tr th:only-of-type {\n",
       "        vertical-align: middle;\n",
       "    }\n",
       "\n",
       "    .dataframe tbody tr th {\n",
       "        vertical-align: top;\n",
       "    }\n",
       "\n",
       "    .dataframe thead th {\n",
       "        text-align: right;\n",
       "    }\n",
       "</style>\n",
       "<table border=\"1\" class=\"dataframe\">\n",
       "  <thead>\n",
       "    <tr style=\"text-align: right;\">\n",
       "      <th></th>\n",
       "      <th>Id</th>\n",
       "      <th>SepalLengthCm</th>\n",
       "      <th>SepalWidthCm</th>\n",
       "      <th>PetalLengthCm</th>\n",
       "      <th>PetalWidthCm</th>\n",
       "      <th>Species</th>\n",
       "      <th>Species Encoded</th>\n",
       "    </tr>\n",
       "  </thead>\n",
       "  <tbody>\n",
       "    <tr>\n",
       "      <th>0</th>\n",
       "      <td>1</td>\n",
       "      <td>5.1</td>\n",
       "      <td>3.5</td>\n",
       "      <td>1.4</td>\n",
       "      <td>0.2</td>\n",
       "      <td>Iris-setosa</td>\n",
       "      <td>0</td>\n",
       "    </tr>\n",
       "    <tr>\n",
       "      <th>1</th>\n",
       "      <td>2</td>\n",
       "      <td>4.9</td>\n",
       "      <td>3.0</td>\n",
       "      <td>1.4</td>\n",
       "      <td>0.2</td>\n",
       "      <td>Iris-setosa</td>\n",
       "      <td>0</td>\n",
       "    </tr>\n",
       "    <tr>\n",
       "      <th>2</th>\n",
       "      <td>3</td>\n",
       "      <td>4.7</td>\n",
       "      <td>3.2</td>\n",
       "      <td>1.3</td>\n",
       "      <td>0.2</td>\n",
       "      <td>Iris-setosa</td>\n",
       "      <td>0</td>\n",
       "    </tr>\n",
       "    <tr>\n",
       "      <th>3</th>\n",
       "      <td>4</td>\n",
       "      <td>4.6</td>\n",
       "      <td>3.1</td>\n",
       "      <td>1.5</td>\n",
       "      <td>0.2</td>\n",
       "      <td>Iris-setosa</td>\n",
       "      <td>0</td>\n",
       "    </tr>\n",
       "    <tr>\n",
       "      <th>4</th>\n",
       "      <td>5</td>\n",
       "      <td>5.0</td>\n",
       "      <td>3.6</td>\n",
       "      <td>1.4</td>\n",
       "      <td>0.2</td>\n",
       "      <td>Iris-setosa</td>\n",
       "      <td>0</td>\n",
       "    </tr>\n",
       "  </tbody>\n",
       "</table>\n",
       "</div>"
      ],
      "text/plain": [
       "   Id  SepalLengthCm  SepalWidthCm  PetalLengthCm  PetalWidthCm      Species  \\\n",
       "0   1            5.1           3.5            1.4           0.2  Iris-setosa   \n",
       "1   2            4.9           3.0            1.4           0.2  Iris-setosa   \n",
       "2   3            4.7           3.2            1.3           0.2  Iris-setosa   \n",
       "3   4            4.6           3.1            1.5           0.2  Iris-setosa   \n",
       "4   5            5.0           3.6            1.4           0.2  Iris-setosa   \n",
       "\n",
       "   Species Encoded  \n",
       "0                0  \n",
       "1                0  \n",
       "2                0  \n",
       "3                0  \n",
       "4                0  "
      ]
     },
     "execution_count": 7,
     "metadata": {},
     "output_type": "execute_result"
    }
   ],
   "source": [
    "df.head()"
   ]
  },
  {
   "cell_type": "code",
   "execution_count": 8,
   "metadata": {},
   "outputs": [
    {
     "data": {
      "text/plain": [
       "array(['Iris-setosa', 'Iris-versicolor', 'Iris-virginica',\n",
       "       'Iris-virginica'], dtype=object)"
      ]
     },
     "execution_count": 8,
     "metadata": {},
     "output_type": "execute_result"
    }
   ],
   "source": [
    "label_encoder.inverse_transform([0, 1, 2, 2])"
   ]
  },
  {
   "cell_type": "code",
   "execution_count": 9,
   "metadata": {},
   "outputs": [],
   "source": [
    "data = np.array(df)"
   ]
  },
  {
   "cell_type": "code",
   "execution_count": 10,
   "metadata": {},
   "outputs": [
    {
     "data": {
      "text/plain": [
       "array([[1, 5.1, 3.5, 1.4, 0.2, 'Iris-setosa', 0],\n",
       "       [2, 4.9, 3.0, 1.4, 0.2, 'Iris-setosa', 0],\n",
       "       [3, 4.7, 3.2, 1.3, 0.2, 'Iris-setosa', 0],\n",
       "       [4, 4.6, 3.1, 1.5, 0.2, 'Iris-setosa', 0],\n",
       "       [5, 5.0, 3.6, 1.4, 0.2, 'Iris-setosa', 0]], dtype=object)"
      ]
     },
     "execution_count": 10,
     "metadata": {},
     "output_type": "execute_result"
    }
   ],
   "source": [
    "data[0:5]"
   ]
  },
  {
   "cell_type": "code",
   "execution_count": 11,
   "metadata": {},
   "outputs": [],
   "source": [
    "train, test = model_selection.train_test_split(data, train_size=0.8)"
   ]
  },
  {
   "cell_type": "code",
   "execution_count": 12,
   "metadata": {},
   "outputs": [],
   "source": [
    "train_x = train[:,1:-2]\n",
    "train_y = np.expand_dims(train[:,-1], 1)\n",
    "\n",
    "test_x = test[:,1:-2]\n",
    "test_y = np.expand_dims(test[:,-1], 1)"
   ]
  },
  {
   "cell_type": "code",
   "execution_count": 13,
   "metadata": {},
   "outputs": [
    {
     "name": "stdout",
     "output_type": "stream",
     "text": [
      "(120, 4)\n",
      "(120, 1)\n",
      "[[5.0 3.5 1.6 0.6]\n",
      " [5.4 3.9 1.3 0.4]]\n",
      "[[0]\n",
      " [0]]\n"
     ]
    }
   ],
   "source": [
    "print(train_x.shape)\n",
    "print(train_y.shape)\n",
    "print(train_x[0:2])\n",
    "print(train_y[0:2])"
   ]
  },
  {
   "cell_type": "code",
   "execution_count": 14,
   "metadata": {},
   "outputs": [
    {
     "name": "stdout",
     "output_type": "stream",
     "text": [
      "features : 4 \t outputs : 3\n"
     ]
    }
   ],
   "source": [
    "number_of_features = train_x.shape[1]\n",
    "number_of_outputs = len(df['Species'].unique())\n",
    "print(f\"features : {number_of_features} \\t outputs : {number_of_outputs}\")"
   ]
  },
  {
   "cell_type": "markdown",
   "metadata": {},
   "source": [
    "# <center> **Neural Network** </center>"
   ]
  },
  {
   "cell_type": "code",
   "execution_count": 19,
   "metadata": {},
   "outputs": [],
   "source": [
    "%run ./neural_network_old.ipynb"
   ]
  },
  {
   "cell_type": "code",
   "execution_count": 20,
   "metadata": {},
   "outputs": [],
   "source": [
    "nn = NeuralNetwork(number_of_features, number_of_outputs, loss_function=MeanSqureLoss(), output_activation_function=SoftmaxActivation())"
   ]
  },
  {
   "cell_type": "code",
   "execution_count": 21,
   "metadata": {},
   "outputs": [],
   "source": [
    "nn.addHiddenLayer(Layer(2, activation_function=SigmoidActivation()))"
   ]
  },
  {
   "cell_type": "code",
   "execution_count": 22,
   "metadata": {},
   "outputs": [],
   "source": [
    "nn.initialize()"
   ]
  },
  {
   "cell_type": "code",
   "execution_count": 41,
   "metadata": {},
   "outputs": [
    {
     "name": "stdout",
     "output_type": "stream",
     "text": [
      "Epoch 1, oveservation 120 : loss = 0.076974603745411186\n",
      "Epoch 2, oveservation 120 : loss = 0.076870611100509058\n",
      "Epoch 3, oveservation 120 : loss = 0.076767041221260976\n",
      "Epoch 4, oveservation 120 : loss = 0.076663892949384055\n",
      "Epoch 5, oveservation 120 : loss = 0.076561165110867126\n",
      "Epoch 6, oveservation 120 : loss = 0.076458856516191364\n",
      "Epoch 7, oveservation 120 : loss = 0.076356965960554154\n",
      "Epoch 8, oveservation 120 : loss = 0.076255492224096475\n",
      "Epoch 9, oveservation 120 : loss = 0.076154434072132036\n",
      "Epoch 10, oveservation 120 : loss = 0.076053790255379313\n",
      "Epoch 11, oveservation 120 : loss = 0.075953559510197355\n",
      "Epoch 12, oveservation 120 : loss = 0.075853740558822524\n",
      "Epoch 13, oveservation 120 : loss = 0.075754332109608543\n",
      "Epoch 14, oveservation 120 : loss = 0.075655332857268325\n",
      "Epoch 15, oveservation 120 : loss = 0.075556741483119046\n",
      "Epoch 16, oveservation 120 : loss = 0.075458556655327837\n",
      "Epoch 17, oveservation 120 : loss = 0.075360777029160286\n",
      "Epoch 18, oveservation 120 : loss = 0.075263401247231177\n",
      "Epoch 19, oveservation 120 : loss = 0.075166427939756274\n",
      "Epoch 20, oveservation 120 : loss = 0.075069855724805935\n",
      "Epoch 21, oveservation 120 : loss = 0.074973683208560616\n",
      "Epoch 22, oveservation 120 : loss = 0.074877908985567436\n",
      "Epoch 23, oveservation 120 : loss = 0.074782531638998674\n",
      "Epoch 24, oveservation 120 : loss = 0.074687549740910766\n",
      "Epoch 25, oveservation 120 : loss = 0.074592961852504486\n",
      "Epoch 26, oveservation 120 : loss = 0.074498766524387186\n",
      "Epoch 27, oveservation 120 : loss = 0.074404962296834535\n",
      "Epoch 28, oveservation 120 : loss = 0.074311547700053995\n",
      "Epoch 29, oveservation 120 : loss = 0.074218521254448256\n",
      "Epoch 30, oveservation 120 : loss = 0.074125881470880235\n",
      "Epoch 31, oveservation 120 : loss = 0.074033626850937562\n",
      "Epoch 32, oveservation 120 : loss = 0.073941755887197975\n",
      "Epoch 33, oveservation 120 : loss = 0.073850267063494764\n",
      "Epoch 34, oveservation 120 : loss = 0.073759158855182298\n",
      "Epoch 35, oveservation 120 : loss = 0.073668429729401996\n",
      "Epoch 36, oveservation 120 : loss = 0.073578078145347596\n",
      "Epoch 37, oveservation 120 : loss = 0.073488102554530745\n",
      "Epoch 38, oveservation 120 : loss = 0.073398501401046064\n",
      "Epoch 39, oveservation 120 : loss = 0.073309273121835946\n",
      "Epoch 40, oveservation 120 : loss = 0.073220416146955835\n",
      "Epoch 41, oveservation 120 : loss = 0.073131928899833485\n",
      "Epoch 42, oveservation 120 : loss = 0.073043809797540388\n",
      "Epoch 43, oveservation 120 : loss = 0.072956057251045437\n",
      "Epoch 44, oveservation 120 : loss = 0.072868669665481184\n",
      "Epoch 45, oveservation 120 : loss = 0.072781645440402785\n",
      "Epoch 46, oveservation 120 : loss = 0.072694982970046996\n",
      "Epoch 47, oveservation 120 : loss = 0.072608680643591454\n",
      "Epoch 48, oveservation 120 : loss = 0.072522736845410454\n",
      "Epoch 49, oveservation 120 : loss = 0.072437149955331086\n",
      "Epoch 50, oveservation 120 : loss = 0.072351918348887546\n",
      "Epoch 51, oveservation 120 : loss = 0.072267040397573356\n",
      "Epoch 52, oveservation 120 : loss = 0.072182514469092675\n",
      "Epoch 53, oveservation 120 : loss = 0.072098338927609766\n",
      "Epoch 54, oveservation 120 : loss = 0.072014512133996728\n",
      "Epoch 55, oveservation 120 : loss = 0.071931032446078938\n",
      "Epoch 56, oveservation 120 : loss = 0.071847898218879375\n",
      "Epoch 57, oveservation 120 : loss = 0.071765107804860565\n",
      "Epoch 58, oveservation 120 : loss = 0.071682659554164246\n",
      "Epoch 59, oveservation 120 : loss = 0.071600551814849624\n",
      "Epoch 60, oveservation 120 : loss = 0.071518782933128588\n",
      "Epoch 61, oveservation 120 : loss = 0.071437351253599376\n",
      "Epoch 62, oveservation 120 : loss = 0.071356255119477642\n",
      "Epoch 63, oveservation 120 : loss = 0.071275492872825135\n",
      "Epoch 64, oveservation 120 : loss = 0.071195062854776185\n",
      "Epoch 65, oveservation 120 : loss = 0.071114963405761324\n",
      "Epoch 66, oveservation 120 : loss = 0.071035192865728784\n",
      "Epoch 67, oveservation 120 : loss = 0.070955749574363186\n",
      "Epoch 68, oveservation 120 : loss = 0.070876631871301893\n",
      "Epoch 69, oveservation 120 : loss = 0.070797838096347586\n",
      "Epoch 70, oveservation 120 : loss = 0.070719366589680562\n",
      "Epoch 71, oveservation 120 : loss = 0.070641215692064874\n",
      "Epoch 72, oveservation 120 : loss = 0.070563383745054974\n",
      "Epoch 73, oveservation 120 : loss = 0.070485869091197215\n",
      "Epoch 74, oveservation 120 : loss = 0.070408670074229386\n",
      "Epoch 75, oveservation 120 : loss = 0.070331785039277635\n",
      "Epoch 76, oveservation 120 : loss = 0.070255212333049524\n",
      "Epoch 77, oveservation 120 : loss = 0.070178950304025148\n",
      "Epoch 78, oveservation 120 : loss = 0.070102997302644376\n",
      "Epoch 79, oveservation 120 : loss = 0.070027351681491616\n",
      "Epoch 80, oveservation 120 : loss = 0.069952011795477446\n",
      "Epoch 81, oveservation 120 : loss = 0.069876976002016827\n",
      "Epoch 82, oveservation 120 : loss = 0.069802242661204668\n",
      "Epoch 83, oveservation 120 : loss = 0.069727810135988372\n",
      "Epoch 84, oveservation 120 : loss = 0.069653676792336445\n",
      "Epoch 85, oveservation 120 : loss = 0.069579840999404975\n",
      "Epoch 86, oveservation 120 : loss = 0.069506301129700414\n",
      "Epoch 87, oveservation 120 : loss = 0.069433055559239227\n",
      "Epoch 88, oveservation 120 : loss = 0.069360102667704588\n",
      "Epoch 89, oveservation 120 : loss = 0.069287440838599766\n",
      "Epoch 90, oveservation 120 : loss = 0.069215068459398337\n",
      "Epoch 91, oveservation 120 : loss = 0.069142983921691124\n",
      "Epoch 92, oveservation 120 : loss = 0.069071185621330654\n",
      "Epoch 93, oveservation 120 : loss = 0.068999671958570974\n",
      "Epoch 94, oveservation 120 : loss = 0.068928441338205988\n",
      "Epoch 95, oveservation 120 : loss = 0.068857492169703455\n",
      "Epoch 96, oveservation 120 : loss = 0.068786822867336596\n",
      "Epoch 97, oveservation 120 : loss = 0.068716431850311436\n",
      "Epoch 98, oveservation 120 : loss = 0.068646317542892625\n",
      "Epoch 99, oveservation 120 : loss = 0.068576478374524645\n",
      "Epoch 100, oveservation 120 : loss = 0.068506912779950775\n"
     ]
    }
   ],
   "source": [
    "epochs = 100\n",
    "\n",
    "nn.fit(train_x, train_y, learning_rate=0.01, epochs=epochs)"
   ]
  },
  {
   "cell_type": "code",
   "execution_count": 42,
   "metadata": {},
   "outputs": [
    {
     "name": "stdout",
     "output_type": "stream",
     "text": [
      "pred : 1 \t actual : 1\n",
      "pred : 0 \t actual : 0\n",
      "pred : 0 \t actual : 0\n",
      "pred : 2 \t actual : 2\n",
      "pred : 2 \t actual : 2\n",
      "pred : 1 \t actual : 1\n",
      "pred : 1 \t actual : 1\n",
      "pred : 1 \t actual : 1\n",
      "pred : 0 \t actual : 0\n",
      "pred : 2 \t actual : 2\n",
      "pred : 2 \t actual : 2\n",
      "pred : 0 \t actual : 0\n",
      "pred : 2 \t actual : 2\n",
      "pred : 2 \t actual : 2\n",
      "pred : 0 \t actual : 0\n",
      "pred : 2 \t actual : 2\n",
      "pred : 1 \t actual : 1\n",
      "pred : 2 \t actual : 2\n",
      "pred : 0 \t actual : 0\n",
      "pred : 0 \t actual : 0\n",
      "pred : 0 \t actual : 0\n",
      "pred : 1 \t actual : 1\n",
      "pred : 1 \t actual : 1\n",
      "pred : 2 \t actual : 2\n",
      "pred : 1 \t actual : 1\n",
      "pred : 1 \t actual : 1\n",
      "pred : 2 \t actual : 2\n",
      "pred : 2 \t actual : 2\n",
      "pred : 1 \t actual : 1\n",
      "pred : 2 \t actual : 2\n",
      "Correct predict : 30 out of 30\n"
     ]
    }
   ],
   "source": [
    "prob = nn.predict(test_x)\n",
    "\n",
    "true_predicted = 0\n",
    "for i in range(len(prob)):\n",
    "    pred = np.argmax(prob[i])\n",
    "    actual = test_y[i][0]\n",
    "    print(f\"pred : {pred} \\t actual : {actual}\")\n",
    "    if pred == actual:\n",
    "        true_predicted += 1\n",
    "\n",
    "print(f\"Correct predict : {true_predicted} out of {len(test_x)}\")"
   ]
  },
  {
   "cell_type": "code",
   "execution_count": null,
   "metadata": {},
   "outputs": [],
   "source": []
  }
 ],
 "metadata": {
  "kernelspec": {
   "display_name": "Python 3",
   "language": "python",
   "name": "python3"
  },
  "language_info": {
   "codemirror_mode": {
    "name": "ipython",
    "version": 3
   },
   "file_extension": ".py",
   "mimetype": "text/x-python",
   "name": "python",
   "nbconvert_exporter": "python",
   "pygments_lexer": "ipython3",
   "version": "3.11.4"
  }
 },
 "nbformat": 4,
 "nbformat_minor": 2
}
